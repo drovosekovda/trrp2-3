{
 "cells": [
  {
   "cell_type": "code",
   "execution_count": 9,
   "metadata": {},
   "outputs": [
    {
     "ename": "SyntaxError",
     "evalue": "invalid syntax (<ipython-input-9-64d3204bb436>, line 2)",
     "output_type": "error",
     "traceback": [
      "\u001b[1;36m  File \u001b[1;32m\"<ipython-input-9-64d3204bb436>\"\u001b[1;36m, line \u001b[1;32m2\u001b[0m\n\u001b[1;33m    grpc_tools.protoc -I. --python_out= . --grpc_python_out=. serv_proto.proto\u001b[0m\n\u001b[1;37m                          ^\u001b[0m\n\u001b[1;31mSyntaxError\u001b[0m\u001b[1;31m:\u001b[0m invalid syntax\n"
     ]
    }
   ],
   "source": [
    "import grpc\n",
    "grpc_tools.protoc -I. --python_out= . --grpc_python_out=. serv_proto.proto"
   ]
  },
  {
   "cell_type": "code",
   "execution_count": null,
   "metadata": {},
   "outputs": [
    {
     "name": "stdout",
     "output_type": "stream",
     "text": [
      "Starting server on 127.0.0.22:5555\n"
     ]
    }
   ],
   "source": [
    "import serv_proto_pb2\n",
    "import serv_proto_pb2_grpc\n",
    "import grpc\n",
    "from concurrent import futures\n",
    "from configparser import ConfigParser\n",
    "\n",
    "class CalculatorServicer(serv_proto_pb2_grpc.CalculatorServicer):\n",
    "    def Calculate(self,request_msg, context):\n",
    "        first_num = request_msg.Operand1\n",
    "        second_num = request_msg.Operand2\n",
    "        operation = request_msg.Operation\n",
    "        if(operation=='MUL'):\n",
    "            result = first_num * second_num\n",
    "        if(operation=='DIV'):\n",
    "            result = first_num // second_num\n",
    "        if (operation == 'SUB'):\n",
    "            result = first_num - second_num\n",
    "        if (operation == 'SUM'):\n",
    "            result = first_num + second_num\n",
    "        response = serv_proto_pb2.CalculatedMessage(result = result)\n",
    "        return response\n",
    "\n",
    "configur = ConfigParser()\n",
    "configur.read('serv_config.ini')\n",
    "ip = configur.get('network', 'ip')\n",
    "port = configur.get('network', 'port')\n",
    "server = grpc.server(futures.ThreadPoolExecutor(max_workers=4))\n",
    "serv_proto_pb2_grpc.add_CalculatorServicer_to_server(CalculatorServicer(), server)\n",
    "print('Starting server on ' + str(ip) + ':' + str(port))\n",
    "server.add_insecure_port( str(ip) + ':' + str(port) )\n",
    "server.start()\n",
    "server.wait_for_termination()"
   ]
  },
  {
   "cell_type": "code",
   "execution_count": 14,
   "metadata": {},
   "outputs": [
    {
     "name": "stdout",
     "output_type": "stream",
     "text": [
      "Requirement already satisfied: protobuf in c:\\games\\anaconda\\lib\\site-packages (3.7.1)\n",
      "Collecting protobuf\n",
      "  Downloading protobuf-3.14.0-cp37-cp37m-win_amd64.whl (798 kB)\n",
      "Requirement already satisfied: six>=1.9 in c:\\games\\anaconda\\lib\\site-packages (from protobuf) (1.12.0)\n",
      "Installing collected packages: protobuf\n",
      "  Attempting uninstall: protobuf\n",
      "    Found existing installation: protobuf 3.7.1\n",
      "    Uninstalling protobuf-3.7.1:\n",
      "      Successfully uninstalled protobuf-3.7.1\n",
      "Successfully installed protobuf-3.14.0\n",
      "Note: you may need to restart the kernel to use updated packages.\n"
     ]
    }
   ],
   "source": [
    "pip install --upgrade protobuf"
   ]
  },
  {
   "cell_type": "code",
   "execution_count": null,
   "metadata": {},
   "outputs": [],
   "source": []
  }
 ],
 "metadata": {
  "kernelspec": {
   "display_name": "Python 3",
   "language": "python",
   "name": "python3"
  }
 },
 "nbformat": 4,
 "nbformat_minor": 2
}
