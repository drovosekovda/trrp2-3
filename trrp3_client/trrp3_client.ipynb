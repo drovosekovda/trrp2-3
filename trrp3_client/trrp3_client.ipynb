{
 "cells": [
  {
   "cell_type": "code",
   "execution_count": 16,
   "metadata": {},
   "outputs": [
    {
     "name": "stdout",
     "output_type": "stream",
     "text": [
      "Connect 127.0.0.22:5555\n",
      "Выберите операцию: \n",
      "1. Сложение\n",
      "2. Вычитание\n",
      "3. Умножение\n",
      "4. Целочисленное деление\n",
      "5. Выход\n",
      "Введите номер: 1\n",
      "Введите первое число: 2\n",
      "Введите второе число: 5\n",
      "Результат: 7.0\n",
      "Введите номер: 5\n",
      "Работа программы завершена\n"
     ]
    }
   ],
   "source": [
    "import serv_proto_pb2\n",
    "import serv_proto_pb2_grpc\n",
    "import grpc\n",
    "from concurrent import futures\n",
    "from configparser import ConfigParser\n",
    "\n",
    "\n",
    "\n",
    "configur = ConfigParser()\n",
    "configur.read('cl_config.ini')\n",
    "ip = configur.get('network', 'ip')\n",
    "port = configur.get('network', 'port')\n",
    "print('Connect ' + str(ip) + ':' + str(port))\n",
    "channel = grpc.insecure_channel(str(ip) + ':' + str(port))\n",
    "stub = serv_proto_pb2_grpc.CalculatorStub(channel)\n",
    "row_num = 0\n",
    "\n",
    "while(row_num!=5):\n",
    "    print('Выберите операцию: ')\n",
    "    print('1. Сложение')\n",
    "    print('2. Вычитание')\n",
    "    print('3. Умножение')\n",
    "    print('4. Целочисленное деление')\n",
    "    print('5. Выход')\n",
    "    row_num = int(input('Введите номер: '))\n",
    "    while row_num!=5:\n",
    "        first_num = float(input('Введите первое число: '))\n",
    "        second_num = float(input('Введите второе число: '))\n",
    "        if(row_num==1):\n",
    "            reaqest = serv_proto_pb2.CalculateMessage(Operation='SUM',Operand1=first_num,Operand2=second_num)\n",
    "            response = stub.Calculate(reaqest)\n",
    "        if(row_num==2):\n",
    "            reaqest = serv_proto_pb2.CalculateMessage(Operation='SUB',Operand1=first_num,Operand2=second_num)\n",
    "            response = stub.Calculate(reaqest)\n",
    "        if(row_num==3):\n",
    "            reaqest = serv_proto_pb2.CalculateMessage(Operation='MUL',Operand1=first_num,Operand2=second_num)\n",
    "            response = stub.Calculate(reaqest)\n",
    "        if(row_num==4):\n",
    "            reaqest = serv_proto_pb2.CalculateMessage(Operation='DIV',Operand1=first_num,Operand2=second_num)\n",
    "            response = stub.Calculate(reaqest)\n",
    "        print('Результат: ' + str(response.result))\n",
    "        row_num = int(input('Введите номер: '))  \n",
    "        \n",
    "print('Работа программы завершена')\n",
    "\n"
   ]
  },
  {
   "cell_type": "code",
   "execution_count": null,
   "metadata": {},
   "outputs": [],
   "source": []
  }
 ],
 "metadata": {
  "kernelspec": {
   "display_name": "Python 3",
   "language": "python",
   "name": "python3"
  },
  "language_info": {
   "codemirror_mode": {
    "name": "ipython",
    "version": 3
   },
   "file_extension": ".py",
   "mimetype": "text/x-python",
   "name": "python",
   "nbconvert_exporter": "python",
   "pygments_lexer": "ipython3",
   "version": "3.7.3"
  }
 },
 "nbformat": 4,
 "nbformat_minor": 2
}
